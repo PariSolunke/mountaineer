{
 "cells": [
  {
   "cell_type": "code",
   "execution_count": 1,
   "metadata": {},
   "outputs": [
    {
     "name": "stderr",
     "output_type": "stream",
     "text": [
      "/home/user/anaconda3/envs/mountaineer-gale/lib/python3.9/site-packages/tqdm/auto.py:22: TqdmWarning: IProgress not found. Please update jupyter and ipywidgets. See https://ipywidgets.readthedocs.io/en/stable/user_install.html\n",
      "  from .autonotebook import tqdm as notebook_tqdm\n"
     ]
    }
   ],
   "source": [
    "import numpy as np\n",
    "import pandas as pd\n",
    "import pickle\n",
    "import time\n",
    "from pathlib import Path\n",
    "\n",
    "import torch.nn as nn\n",
    "\n",
    "from captum_explainers import explainer_attributes\n",
    "\n",
    "from src.baseline_experiments import *\n",
    "\n",
    "from mountaineer import Mountaineer\n",
    "from gale import create_mapper, bootstrap_mapper_params"
   ]
  },
  {
   "cell_type": "markdown",
   "metadata": {},
   "source": [
    "## Load data and explanations"
   ]
  },
  {
   "cell_type": "code",
   "execution_count": 2,
   "metadata": {},
   "outputs": [],
   "source": [
    "class FFNNClassification(nn.Module):\n",
    "    def __init__(self, input_dim, n_nodes_per_layer=8):\n",
    "        super().__init__()\n",
    "        self.n_nodes_per_layer = n_nodes_per_layer\n",
    "        \n",
    "        self.linear1 = nn.Linear(input_dim, self.n_nodes_per_layer)\n",
    "        self.relu1 = nn.ReLU()\n",
    "        self.linear2 = nn.Linear(self.n_nodes_per_layer, self.n_nodes_per_layer)\n",
    "        self.relu2 = nn.ReLU()\n",
    "        self.linear3 = nn.Linear(self.n_nodes_per_layer, 1)\n",
    "        self.sigmoid = nn.Sigmoid()\n",
    "\n",
    "    def forward(self, x):       \n",
    "        out = self.linear1(x)\n",
    "        out = self.relu1(out)\n",
    "        out = self.linear2(out)\n",
    "        out = self.relu2(out)\n",
    "        out = self.linear3(out)\n",
    "        out = self.sigmoid(out)\n",
    "        \n",
    "        return out"
   ]
  },
  {
   "cell_type": "code",
   "execution_count": 3,
   "metadata": {},
   "outputs": [
    {
     "data": {
      "text/plain": [
       "<All keys matched successfully>"
      ]
     },
     "execution_count": 3,
     "metadata": {},
     "output_type": "execute_result"
    }
   ],
   "source": [
    "###1. load data and model\n",
    "data_name = 'heloc'\n",
    "task = 'classif'\n",
    "model_name = 'ffnnA'\n",
    "subset = False\n",
    "\n",
    "test_size = 0.20\n",
    "test_str = int(test_size*100)\n",
    "\n",
    "if subset:\n",
    "    filepath = f'dataset/{data_name}/{data_name}-clean-test{test_str}-normalized-subset.csv' # subset of test points\n",
    "else:\n",
    "    filepath = f'dataset/{data_name}/{data_name}-clean-test{test_str}-normalized.csv' #all test set points\n",
    "data = np.loadtxt(filepath, delimiter=',', dtype=np.float64, skiprows=1)\n",
    "data = torch.from_numpy(data).float()\n",
    "X = data[:, 0:-1]\n",
    "y = data[:, -1]\n",
    "\n",
    "columns_df = pd.read_csv(filepath, nrows=1)\n",
    "col_names = columns_df.columns\n",
    "\n",
    "model_f = FFNNClassification(input_dim=X.shape[1])\n",
    "checkpoint = torch.load(f'dataset/{data_name}/{task}_{model_name}_{data_name}_ckpt.pth', map_location=torch.device('cpu'))\n",
    "model_f.load_state_dict(checkpoint['model'])"
   ]
  },
  {
   "cell_type": "code",
   "execution_count": 4,
   "metadata": {},
   "outputs": [],
   "source": [
    "if subset:\n",
    "    exp_dic_str = \"dataset/heloc/heloc_exp_dict_subset.p\"\n",
    "else:\n",
    "    exp_dic_str = \"dataset/heloc/heloc_exp_dict.p\"\n",
    "\n",
    "if Path(exp_dic_str).is_file():\n",
    "    exp_dict = pickle.load(open(exp_dic_str, 'rb'))\n",
    "\n",
    "else:\n",
    "    exp_dict = explainer_attributes(model_f, X, n_perturb = 500)\n",
    "    pickle.dump(exp_dict, open(exp_dic_str, \"wb\"))"
   ]
  },
  {
   "cell_type": "markdown",
   "metadata": {},
   "source": [
    "## Creating the mapper outputs"
   ]
  },
  {
   "cell_type": "code",
   "execution_count": 5,
   "metadata": {},
   "outputs": [],
   "source": [
    "predictions = model_f.forward(X)\n",
    "function = np.array([np.squeeze(i.detach().numpy()) for i in predictions])\n",
    "\n",
    "X_np = X.detach().numpy()\n",
    "\n",
    "original_mapper = False"
   ]
  },
  {
   "cell_type": "code",
   "execution_count": 6,
   "metadata": {},
   "outputs": [
    {
     "name": "stdout",
     "output_type": "stream",
     "text": [
      "Time: 263.57509326934814\n",
      "Stability for Vanilla Gradient: 0.00509 | Resolution: 15\n",
      "Time: 387.3916165828705\n",
      "Stability for Gradient x Input: 0.00555 | Resolution: 10\n",
      "Time: 794.0999248027802\n",
      "Stability for Occlusion: 0.00509 | Resolution: 15\n",
      "Time: 236.69469046592712\n",
      "Stability for Guided Backprop: 0.00509 | Resolution: 15\n",
      "Time: 1308.5162737369537\n",
      "Stability for LIME: 0.00509 | Resolution: 15\n",
      "Time: 1448.2249104976654\n",
      "Stability for KernelSHAP: 0.00509 | Resolution: 15\n",
      "Time: 257.4611392021179\n",
      "Stability for SmoothGrad: 0.00476 | Resolution: 13\n",
      "Time: 553.4122791290283\n",
      "Stability for Integrated Gradients: 0.00509 | Resolution: 15\n"
     ]
    }
   ],
   "source": [
    "gains=[0.1,0.2,0.3,0.4,0.5]\n",
    "resolutions = [i for i in range(10, 31)]\n",
    "distances = [0.1,0.2,0.3,0.4,0.5]\n",
    "\n",
    "heloc_params_str = \"dataset/heloc-gale/heloc_params_mapper.p\"\n",
    "\n",
    "best_params = {}\n",
    "mappers = {}\n",
    "exec_times = {}\n",
    "\n",
    "if Path(heloc_params_str).is_file():\n",
    "    best_params = pickle.load(open(heloc_params_str, 'rb'))\n",
    "\n",
    "for exp in exp_dict.keys():\n",
    "    exec_times[exp] = {}\n",
    "    \n",
    "    if not Path(heloc_params_str).is_file():\n",
    "        \n",
    "        start_time = time.time()\n",
    "\n",
    "        best_params[exp] = bootstrap_mapper_params(exp_dict[exp], function,\n",
    "                            resolutions=resolutions,\n",
    "                            gains=gains,\n",
    "                            distances=distances,\n",
    "                            n=100, \n",
    "                            n_jobs=-1)\n",
    "        \n",
    "        exec_times[exp]['Bootstrap parameters'] = time.time()-start_time\n",
    "        print(f'Time: {exec_times[exp][\"Bootstrap parameters\"]}')\n",
    "    \n",
    "    print(f'Stability for {exp}: {best_params[exp][\"stability\"]:.5f} | Resolution: {best_params[exp][\"resolution\"]}')\n",
    "\n",
    "    start_time = time.time()\n",
    "    mappers[exp] = create_mapper(exp_dict[exp], function, \n",
    "                                 resolution=best_params[exp]['resolution'], \n",
    "                                 gain=best_params[exp]['gain'], \n",
    "                                 dist_thresh=best_params[exp]['distance_threshold'])\n",
    "    if not exec_times is None:\n",
    "        exec_times[exp]['Build mapper'] = time.time()-start_time\n",
    "\n",
    "if not Path(heloc_params_str).is_file():\n",
    "    pickle.dump(best_params, open(heloc_params_str, \"wb\"))"
   ]
  },
  {
   "cell_type": "code",
   "execution_count": 7,
   "metadata": {},
   "outputs": [
    {
     "data": {
      "text/plain": [
       "{'Vanilla Gradient': {'Bootstrap parameters': 263.57509326934814,\n",
       "  'Build mapper': 0.030805110931396484},\n",
       " 'Gradient x Input': {'Bootstrap parameters': 387.3916165828705,\n",
       "  'Build mapper': 0.02549433708190918},\n",
       " 'Occlusion': {'Bootstrap parameters': 794.0999248027802,\n",
       "  'Build mapper': 0.025959253311157227},\n",
       " 'Guided Backprop': {'Bootstrap parameters': 236.69469046592712,\n",
       "  'Build mapper': 0.026262760162353516},\n",
       " 'LIME': {'Bootstrap parameters': 1308.5162737369537,\n",
       "  'Build mapper': 0.026154279708862305},\n",
       " 'KernelSHAP': {'Bootstrap parameters': 1448.2249104976654,\n",
       "  'Build mapper': 0.02621769905090332},\n",
       " 'SmoothGrad': {'Bootstrap parameters': 257.4611392021179,\n",
       "  'Build mapper': 0.019977807998657227},\n",
       " 'Integrated Gradients': {'Bootstrap parameters': 553.4122791290283,\n",
       "  'Build mapper': 0.026558399200439453}}"
      ]
     },
     "execution_count": 7,
     "metadata": {},
     "output_type": "execute_result"
    }
   ],
   "source": [
    "exec_times"
   ]
  },
  {
   "cell_type": "code",
   "execution_count": 8,
   "metadata": {},
   "outputs": [
    {
     "data": {
      "text/plain": [
       "{'Vanilla Gradient': {'Bootstrap parameters': 263.57509326934814,\n",
       "  'Build mapper': 0.030805110931396484},\n",
       " 'Gradient x Input': {'Bootstrap parameters': 387.3916165828705,\n",
       "  'Build mapper': 0.02549433708190918},\n",
       " 'Occlusion': {'Bootstrap parameters': 794.0999248027802,\n",
       "  'Build mapper': 0.025959253311157227},\n",
       " 'Guided Backprop': {'Bootstrap parameters': 236.69469046592712,\n",
       "  'Build mapper': 0.026262760162353516},\n",
       " 'LIME': {'Bootstrap parameters': 1308.5162737369537,\n",
       "  'Build mapper': 0.026154279708862305},\n",
       " 'KernelSHAP': {'Bootstrap parameters': 1448.2249104976654,\n",
       "  'Build mapper': 0.02621769905090332},\n",
       " 'SmoothGrad': {'Bootstrap parameters': 257.4611392021179,\n",
       "  'Build mapper': 0.019977807998657227},\n",
       " 'Integrated Gradients': {'Bootstrap parameters': 553.4122791290283,\n",
       "  'Build mapper': 0.026558399200439453}}"
      ]
     },
     "execution_count": 8,
     "metadata": {},
     "output_type": "execute_result"
    }
   ],
   "source": [
    "exec_time_str = f\"dataset/heloc-gale/heloc_exec_time.p\"\n",
    "\n",
    "if not exec_times is None:\n",
    "    pickle.dump(exec_times, open(exec_time_str, \"wb\"))\n",
    "else:\n",
    "    pickle.load(open(exec_time_str, 'rb'))\n",
    "\n",
    "exec_times"
   ]
  },
  {
   "cell_type": "markdown",
   "metadata": {},
   "source": [
    "## Visualize"
   ]
  },
  {
   "cell_type": "code",
   "execution_count": 9,
   "metadata": {},
   "outputs": [],
   "source": [
    "#list of mapper outputs - minimum 2\n",
    "exp_list = ['LIME', 'KernelSHAP', 'Occlusion', 'Integrated Gradients',\n",
    "           'Gradient x Input', 'Vanilla Gradient', 'SmoothGrad']\n",
    "\n",
    "mapper_outputs=[mappers[mode] for mode in exp_list]\n",
    "\n",
    "explanation_vectors=[]\n",
    "for exp in exp_list:\n",
    "    explanation_vectors.append(exp_dict[exp])\n",
    "\n",
    "explanation_list=[]\n",
    "for expl in explanation_vectors:\n",
    "    explanation_list.append(expl.tolist())\n",
    "\n",
    "expl_labels = exp_list\n",
    "class_labels = {1:'Payed', 0:\"Not Payed\"}\n",
    "predicted_prob = np.array([np.squeeze(i.detach().numpy()) for i in predictions])\n",
    "\n",
    "color_values = [function]\n",
    "\n",
    "#column names of the dataframe\n",
    "column_names = np.array(col_names[:-1])"
   ]
  },
  {
   "cell_type": "code",
   "execution_count": 10,
   "metadata": {
    "scrolled": false
   },
   "outputs": [
    {
     "data": {
      "text/html": [
       "<style>.container { width:100% !important; }</style>"
      ],
      "text/plain": [
       "<IPython.core.display.HTML object>"
      ]
     },
     "metadata": {},
     "output_type": "display_data"
    },
    {
     "ename": "AttributeError",
     "evalue": "'dict' object has no attribute 'node_info_'",
     "output_type": "error",
     "traceback": [
      "\u001b[0;31m---------------------------------------------------------------------------\u001b[0m",
      "\u001b[0;31mAttributeError\u001b[0m                            Traceback (most recent call last)",
      "Cell \u001b[0;32mIn [10], line 7\u001b[0m\n\u001b[1;32m      4\u001b[0m \u001b[38;5;66;03m#visualize\u001b[39;00m\n\u001b[1;32m      5\u001b[0m test \u001b[38;5;241m=\u001b[39m Mountaineer()\n\u001b[0;32m----> 7\u001b[0m test\u001b[38;5;241m.\u001b[39mvisualize(X_np, y\u001b[38;5;241m.\u001b[39mnumpy(), predicted_prob, explanation_list, mapper_outputs, column_names, \n\u001b[1;32m      8\u001b[0m               expl_labels, class_labels, kamada_layout\u001b[38;5;241m=\u001b[39m\u001b[38;5;28;01mTrue\u001b[39;00m)\n",
      "File \u001b[0;32m~/Documents/mountaineer/mountaineer/mountaineer.py:76\u001b[0m, in \u001b[0;36mMountaineer.visualize\u001b[0;34m(self, X, y, lens, explanation_list, mappers, column_names, expl_labels, class_labels, kamada_layout, model_comparison, model_names)\u001b[0m\n\u001b[1;32m     74\u001b[0m mapper_obj \u001b[38;5;241m=\u001b[39m {}\n\u001b[1;32m     75\u001b[0m nodes_dict \u001b[38;5;241m=\u001b[39m defaultdict(\u001b[38;5;28mlist\u001b[39m)\n\u001b[0;32m---> 76\u001b[0m \u001b[38;5;28;01mfor\u001b[39;00m node, data \u001b[38;5;129;01min\u001b[39;00m \u001b[43mmapper\u001b[49m\u001b[38;5;241;43m.\u001b[39;49m\u001b[43mnode_info_\u001b[49m\u001b[38;5;241m.\u001b[39mitems():\n\u001b[1;32m     77\u001b[0m     \u001b[38;5;28;01mif\u001b[39;00m node \u001b[38;5;129;01min\u001b[39;00m kk_layout:\n\u001b[1;32m     78\u001b[0m         kk_object[\u001b[38;5;28mstr\u001b[39m(node)] \u001b[38;5;241m=\u001b[39m kk_layout[node]\u001b[38;5;241m.\u001b[39mtolist()\n",
      "\u001b[0;31mAttributeError\u001b[0m: 'dict' object has no attribute 'node_info_'"
     ]
    }
   ],
   "source": [
    "from IPython.display import display, HTML\n",
    "display(HTML(\"<style>.container { width:100% !important; }</style>\"))\n",
    "\n",
    "#visualize\n",
    "test = Mountaineer()\n",
    "\n",
    "test.visualize(X_np, y.numpy(), predicted_prob, explanation_list, mapper_outputs, column_names, \n",
    "              expl_labels, class_labels, kamada_layout=True)"
   ]
  },
  {
   "cell_type": "code",
   "execution_count": null,
   "metadata": {},
   "outputs": [],
   "source": []
  }
 ],
 "metadata": {
  "kernelspec": {
   "display_name": "Python 3 (ipykernel)",
   "language": "python",
   "name": "python3"
  },
  "language_info": {
   "codemirror_mode": {
    "name": "ipython",
    "version": 3
   },
   "file_extension": ".py",
   "mimetype": "text/x-python",
   "name": "python",
   "nbconvert_exporter": "python",
   "pygments_lexer": "ipython3",
   "version": "3.9.13"
  }
 },
 "nbformat": 4,
 "nbformat_minor": 4
}
