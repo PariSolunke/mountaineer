{
 "cells": [
  {
   "cell_type": "code",
   "execution_count": 1,
   "metadata": {},
   "outputs": [],
   "source": [
    "import numpy as np\n",
    "import pandas as pd\n",
    "\n",
    "from sklearn.neural_network import MLPClassifier\n",
    "from sklearn.datasets import make_circles\n",
    "from sklearn.metrics import accuracy_score, f1_score\n",
    "\n",
    "from src.baseline_experiments import *\n",
    "\n",
    "from mountaineer import Mountaineer\n",
    "from gale import create_mapper, bootstrap_mapper_params"
   ]
  },
  {
   "cell_type": "markdown",
   "metadata": {},
   "source": [
    "## Explain fuctions"
   ]
  },
  {
   "cell_type": "code",
   "execution_count": 2,
   "metadata": {},
   "outputs": [],
   "source": [
    "from lime.lime_tabular import LimeTabularExplainer\n",
    "from shap import KernelExplainer\n",
    "\n",
    "def run_lime(X, model, num_features=4, num_samples=100):\n",
    "    explainer = LimeTabularExplainer(X, discretize_continuous=False, random_state=2020)\n",
    "    lime_exp = []\n",
    "    for x in X:\n",
    "        exp = explainer.explain_instance(x, model.predict_proba, num_features=num_features, num_samples=num_samples)\n",
    "        tmp = [0 for i in range(X.shape[1])]\n",
    "        for e in exp.as_list():\n",
    "            tmp[int(e[0])] = e[1]\n",
    "        lime_exp.append(tmp)\n",
    "    lime_exp = np.array(lime_exp)\n",
    "    return lime_exp\n",
    "\n",
    "def run_shap(X, model):\n",
    "    def f(X):\n",
    "        return model.predict_proba(X)[:,1]\n",
    "    explainer = KernelExplainer(f, X)\n",
    "    exp_shap = explainer.shap_values(X, random_state=2020)\n",
    "    return exp_shap"
   ]
  },
  {
   "cell_type": "markdown",
   "metadata": {},
   "source": [
    "## Generate dataset"
   ]
  },
  {
   "cell_type": "code",
   "execution_count": 3,
   "metadata": {},
   "outputs": [],
   "source": [
    "np.random.seed(2020)\n",
    "X, y = make_circles(n_samples=1000, noise=0.3, factor=0.5, random_state=2020)"
   ]
  },
  {
   "cell_type": "code",
   "execution_count": 11,
   "metadata": {},
   "outputs": [
    {
     "data": {
      "text/plain": [
       "array([[-0.53817828,  0.18327441],\n",
       "       [ 0.18124665, -0.55110768],\n",
       "       [-0.25353628, -0.54940582],\n",
       "       ...,\n",
       "       [-0.46927203, -0.84022608],\n",
       "       [ 0.27095977, -1.19966353],\n",
       "       [-0.37505863, -1.13471659]])"
      ]
     },
     "execution_count": 11,
     "metadata": {},
     "output_type": "execute_result"
    }
   ],
   "source": [
    "X"
   ]
  },
  {
   "cell_type": "markdown",
   "metadata": {},
   "source": [
    "## Train model and get exp"
   ]
  },
  {
   "cell_type": "code",
   "execution_count": 4,
   "metadata": {},
   "outputs": [
    {
     "name": "stderr",
     "output_type": "stream",
     "text": [
      "Using 1000 background data samples could cause slower run times. Consider using shap.sample(data, K) or shap.kmeans(data, K) to summarize the background as K samples.\n",
      "100%|██████████| 1000/1000 [02:50<00:00,  5.88it/s]\n"
     ]
    }
   ],
   "source": [
    "mlp = MLPClassifier(hidden_layer_sizes=(64, 64), batch_size=16, random_state=2020, max_iter=1000)\n",
    "mlp.fit(X, y)\n",
    "\n",
    "predictions = mlp.predict_proba(X)[:, 1]\n",
    "function_mlp = predictions.reshape(-1,1)\n",
    "\n",
    "exp_lime_mlp = run_lime(X, mlp)\n",
    "exp_shap_mlp = run_shap(X, mlp)"
   ]
  },
  {
   "cell_type": "code",
   "execution_count": 5,
   "metadata": {},
   "outputs": [
    {
     "name": "stdout",
     "output_type": "stream",
     "text": [
      "Accuracy: 0.785\n",
      "F1: 0.7785787847579814\n"
     ]
    }
   ],
   "source": [
    "print(f\"Accuracy: {accuracy_score(y, mlp.predict(X))}\")\n",
    "print(f\"F1: {f1_score(y, mlp.predict(X))}\")"
   ]
  },
  {
   "cell_type": "markdown",
   "metadata": {},
   "source": [
    "## Creating the mapper outputs"
   ]
  },
  {
   "cell_type": "code",
   "execution_count": 6,
   "metadata": {},
   "outputs": [
    {
     "name": "stdout",
     "output_type": "stream",
     "text": [
      "Params for original feature space: {'stability': 0.0025369670342185735, 'components': 1, 'resolution': 25, 'gain': 0.3, 'distance_threshold': 0.3}\n"
     ]
    }
   ],
   "source": [
    "resolutions=[5,10,15,20,25]\n",
    "gains=[0.1,0.2,0.3,0.4,0.5]\n",
    "distances=[0.1,0.2,0.3,0.4,0.5]\n",
    "\n",
    "function = np.array([np.squeeze(i) for i in predictions])\n",
    "\n",
    "params_boots = bootstrap_mapper_params(X, function_mlp, resolutions, gains, distances, ci=0.95, n=100)\n",
    "print(f\"Params for original feature space: {params_boots}\")"
   ]
  },
  {
   "cell_type": "code",
   "execution_count": 16,
   "metadata": {},
   "outputs": [],
   "source": [
    "mapper_outputs = []#create_mapper(X, function_mlp, resolution=params_boots['resolution'], gain=params_boots['gain'], \n",
    "                                #dist_thresh=params_boots['distance_threshold'])]\n",
    "explanation_vectors = []#X]\n",
    "labels = []#\"Feature Space\"]\n",
    "\n",
    "for res in [5,10,20]:\n",
    "    for gain in [0.2,0.3,0.4]:\n",
    "        for dist in [0.2,0.3,0.4]:\n",
    "            labels.append(f\"R{res}-G{gain}-D{dist}\")\n",
    "            explanation_vectors.append(exp_lime_mlp)\n",
    "            mapper_outputs.append(create_mapper(exp_lime_mlp, function_mlp, resolution=res, gain=gain, dist_thresh=dist))"
   ]
  },
  {
   "cell_type": "markdown",
   "metadata": {},
   "source": [
    "## Visualize"
   ]
  },
  {
   "cell_type": "code",
   "execution_count": 17,
   "metadata": {},
   "outputs": [
    {
     "data": {
      "text/html": [
       "<style>.container { width:1920px !important; }</style>"
      ],
      "text/plain": [
       "<IPython.core.display.HTML object>"
      ]
     },
     "metadata": {},
     "output_type": "display_data"
    }
   ],
   "source": [
    "from IPython.display import display, HTML\n",
    "display(HTML(\"<style>.container { width:1920px !important; }</style>\"))"
   ]
  },
  {
   "cell_type": "code",
   "execution_count": 18,
   "metadata": {
    "scrolled": false
   },
   "outputs": [],
   "source": [
    "explanation_list=[]\n",
    "for expl in explanation_vectors:\n",
    "    explanation_list.append(expl.tolist())\n",
    "\n",
    "predicted_prob = np.array([np.squeeze(i) for i in predictions])\n",
    "\n",
    "#column names of the dataframe\n",
    "column_names= pd.Series([\"Feat1\", \"Feat2\"]) #np.array(X.columns)\n"
   ]
  },
  {
   "cell_type": "code",
   "execution_count": 19,
   "metadata": {},
   "outputs": [],
   "source": [
    "#visualize\n",
    "mnt = Mountaineer()\n",
    "mnt.visualize(X, y, predicted_prob, explanation_list, mapper_outputs, column_names, labels) #Projection method- 'UMAP' or 'TSNE'"
   ]
  },
  {
   "cell_type": "code",
   "execution_count": null,
   "metadata": {},
   "outputs": [],
   "source": []
  }
 ],
 "metadata": {
  "kernelspec": {
   "display_name": "Python 3 (ipykernel)",
   "language": "python",
   "name": "python3"
  },
  "language_info": {
   "codemirror_mode": {
    "name": "ipython",
    "version": 3
   },
   "file_extension": ".py",
   "mimetype": "text/x-python",
   "name": "python",
   "nbconvert_exporter": "python",
   "pygments_lexer": "ipython3",
   "version": "3.9.13"
  }
 },
 "nbformat": 4,
 "nbformat_minor": 4
}
