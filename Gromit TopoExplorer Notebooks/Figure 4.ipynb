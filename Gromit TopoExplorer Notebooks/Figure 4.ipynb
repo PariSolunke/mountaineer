{
 "cells": [
  {
   "cell_type": "code",
   "execution_count": 1,
   "metadata": {},
   "outputs": [],
   "source": [
    "from src.TopoExplanation import *\n",
    "import matplotlib.pyplot as plt"
   ]
  },
  {
   "cell_type": "markdown",
   "metadata": {},
   "source": [
    "## Topological graph for the Torus example"
   ]
  },
  {
   "cell_type": "code",
   "execution_count": 2,
   "metadata": {},
   "outputs": [],
   "source": [
    "nodes = [0,1,2,3,4,5,6,7]\n",
    "edges = [(0,1),(1,2),(1,3),(2,4),(3,5),(4,6),(5,6),(6,7)]\n",
    "filtrations = [0,1,2,2,3,3,4,5]\n",
    "st = gd.SimplexTree()\n",
    "for n in nodes:\n",
    "        st.insert([n])\n",
    "for e1,e2 in edges:\n",
    "    st.insert([e1,e2])\n",
    "for k,v in zip(nodes,filtrations):\n",
    "    st.assign_filtration([k],v)\n",
    "st.make_filtration_non_decreasing()\n",
    "st.extend_filtration()\n"
   ]
  },
  {
   "cell_type": "markdown",
   "metadata": {},
   "source": [
    "## Visualize persistence diagram"
   ]
  },
  {
   "cell_type": "code",
   "execution_count": 4,
   "metadata": {},
   "outputs": [
    {
     "data": {
      "text/plain": [
       "Text(0, 0.5, 'death')"
      ]
     },
     "execution_count": 4,
     "metadata": {},
     "output_type": "execute_result"
    },
    {
     "data": {
      "image/png": "[encoded data removed]",
      "text/plain": [
       "<Figure size 432x288 with 1 Axes>"
      ]
     },
     "metadata": {
      "needs_background": "light"
     },
     "output_type": "display_data"
    }
   ],
   "source": [
    "dgms = st.extended_persistence(min_persistence=1e-5)\n",
    "\n",
    "cdict = {2: 'steelblue', 3: 'orange'}\n",
    "labels = [\"\",\"\",\"0-cycles\",\"1-cycles\"]\n",
    "for j in [2,3]:\n",
    "    xs = [dgms[j][i][1][0] for i in range(len(dgms[j]))]\n",
    "    ys = [dgms[j][i][1][1] for i in range(len(dgms[j]))]\n",
    "    plt.scatter(xs,\n",
    "                ys,c=cdict[j],label=labels[j],s=100)\n",
    "\n",
    "plt.legend(loc='upper right')\n",
    "plt.plot([0,5],[0,5],c='grey')\n",
    "plt.xlabel('birth',fontsize=18)\n",
    "plt.ylabel('death',fontsize=18)"
   ]
  }
 ],
 "metadata": {
  "kernelspec": {
   "display_name": "Python 3",
   "language": "python",
   "name": "python3"
  },
  "language_info": {
   "codemirror_mode": {
    "name": "ipython",
    "version": 3
   },
   "file_extension": ".py",
   "mimetype": "text/x-python",
   "name": "python",
   "nbconvert_exporter": "python",
   "pygments_lexer": "ipython3",
   "version": "3.7.4"
  }
 },
 "nbformat": 4,
 "nbformat_minor": 4
}
